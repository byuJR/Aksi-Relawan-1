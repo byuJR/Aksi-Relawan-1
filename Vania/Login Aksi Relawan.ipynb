{
 "cells": [
  {
   "cell_type": "code",
   "execution_count": 2,
   "metadata": {},
   "outputs": [
    {
     "name": "stderr",
     "output_type": "stream",
     "text": [
      "C:\\Users\\acer\\AppData\\Local\\Temp\\ipykernel_3280\\353729540.py:1: DeprecationWarning: Importing display from IPython.core.display is deprecated since IPython 7.14, please import from IPython display\n",
      "  from IPython.core.display import display, HTML\n"
     ]
    },
    {
     "data": {
      "text/html": [
       "\n",
       "<!DOCTYPE html>\n",
       "<html lang=\"id\">\n",
       "<head>\n",
       "    <meta charset=\"UTF-8\">\n",
       "    <meta name=\"viewport\" content=\"width=device-width, initial-scale=1.0\">\n",
       "    <title>Login Volunteer</title>\n",
       "    <script src=\"https://cdn.tailwindcss.com\"></script>\n",
       "</head>\n",
       "<body class=\"flex items-center justify-center min-h-screen bg-gray-100\">\n",
       "    <div class=\"w-full max-w-sm p-6 bg-white rounded-lg shadow-md\">\n",
       "        <h2 class=\"text-2xl font-semibold text-center text-gray-700\">Login Volunteer</h2>\n",
       "        <form id=\"loginForm\" class=\"mt-4\">\n",
       "            <div>\n",
       "                <label class=\"block text-sm font-medium text-gray-600\">Email</label>\n",
       "                <input type=\"email\" id=\"email\" class=\"w-full px-4 py-2 mt-2 border rounded-lg focus:outline-none focus:ring-2 focus:ring-blue-500\" required>\n",
       "            </div>\n",
       "            <div class=\"mt-4\">\n",
       "                <label class=\"block text-sm font-medium text-gray-600\">Password</label>\n",
       "                <input type=\"password\" id=\"password\" class=\"w-full px-4 py-2 mt-2 border rounded-lg focus:outline-none focus:ring-2 focus:ring-blue-500\" required>\n",
       "            </div>\n",
       "            <button type=\"submit\" class=\"w-full px-4 py-2 mt-4 text-white bg-blue-500 rounded-lg hover:bg-blue-600\">Login</button>\n",
       "        </form>\n",
       "        <p class=\"mt-4 text-sm text-center text-gray-600\">Belum punya akun? <a href=\"#\" class=\"text-blue-500 hover:underline\">Daftar di sini</a></p>\n",
       "    </div>\n",
       "\n",
       "    <script>\n",
       "        document.getElementById(\"loginForm\").addEventListener(\"submit\", function(event) {\n",
       "            event.preventDefault();\n",
       "            let email = document.getElementById(\"email\").value;\n",
       "            let password = document.getElementById(\"password\").value;\n",
       "            \n",
       "            if (email === \"admin@volunteer.com\" && password === \"password123\") {\n",
       "                alert(\"Login berhasil! Selamat datang di website volunteer.\");\n",
       "                window.location.href = \"dashboard.html\"; // Ganti dengan halaman utama setelah login\n",
       "            } else {\n",
       "                alert(\"Email atau password salah. Silakan coba lagi.\");\n",
       "            }\n",
       "        });\n",
       "    </script>\n",
       "</body>\n",
       "</html>\n"
      ],
      "text/plain": [
       "<IPython.core.display.HTML object>"
      ]
     },
     "metadata": {},
     "output_type": "display_data"
    }
   ],
   "source": [
    "from IPython.core.display import display, HTML\n",
    "\n",
    "html_code = \"\"\"\n",
    "<!DOCTYPE html>\n",
    "<html lang=\"id\">\n",
    "<head>\n",
    "    <meta charset=\"UTF-8\">\n",
    "    <meta name=\"viewport\" content=\"width=device-width, initial-scale=1.0\">\n",
    "    <title>Login Volunteer</title>\n",
    "    <script src=\"https://cdn.tailwindcss.com\"></script>\n",
    "</head>\n",
    "<body class=\"flex items-center justify-center min-h-screen bg-gray-100\">\n",
    "    <div class=\"w-full max-w-sm p-6 bg-white rounded-lg shadow-md\">\n",
    "        <h2 class=\"text-2xl font-semibold text-center text-gray-700\">Login Volunteer</h2>\n",
    "        <form id=\"loginForm\" class=\"mt-4\">\n",
    "            <div>\n",
    "                <label class=\"block text-sm font-medium text-gray-600\">Email</label>\n",
    "                <input type=\"email\" id=\"email\" class=\"w-full px-4 py-2 mt-2 border rounded-lg focus:outline-none focus:ring-2 focus:ring-blue-500\" required>\n",
    "            </div>\n",
    "            <div class=\"mt-4\">\n",
    "                <label class=\"block text-sm font-medium text-gray-600\">Password</label>\n",
    "                <input type=\"password\" id=\"password\" class=\"w-full px-4 py-2 mt-2 border rounded-lg focus:outline-none focus:ring-2 focus:ring-blue-500\" required>\n",
    "            </div>\n",
    "            <button type=\"submit\" class=\"w-full px-4 py-2 mt-4 text-white bg-blue-500 rounded-lg hover:bg-blue-600\">Login</button>\n",
    "        </form>\n",
    "        <p class=\"mt-4 text-sm text-center text-gray-600\">Belum punya akun? <a href=\"#\" class=\"text-blue-500 hover:underline\">Daftar di sini</a></p>\n",
    "    </div>\n",
    "\n",
    "    <script>\n",
    "        document.getElementById(\"loginForm\").addEventListener(\"submit\", function(event) {\n",
    "            event.preventDefault();\n",
    "            let email = document.getElementById(\"email\").value;\n",
    "            let password = document.getElementById(\"password\").value;\n",
    "            \n",
    "            if (email === \"admin@volunteer.com\" && password === \"password123\") {\n",
    "                alert(\"Login berhasil! Selamat datang di website volunteer.\");\n",
    "                window.location.href = \"dashboard.html\"; // Ganti dengan halaman utama setelah login\n",
    "            } else {\n",
    "                alert(\"Email atau password salah. Silakan coba lagi.\");\n",
    "            }\n",
    "        });\n",
    "    </script>\n",
    "</body>\n",
    "</html>\n",
    "\"\"\"\n",
    "\n",
    "display(HTML(html_code))\n"
   ]
  }
 ],
 "metadata": {
  "kernelspec": {
   "display_name": "base",
   "language": "python",
   "name": "python3"
  },
  "language_info": {
   "codemirror_mode": {
    "name": "ipython",
    "version": 3
   },
   "file_extension": ".py",
   "mimetype": "text/x-python",
   "name": "python",
   "nbconvert_exporter": "python",
   "pygments_lexer": "ipython3",
   "version": "3.12.7"
  }
 },
 "nbformat": 4,
 "nbformat_minor": 2
}
